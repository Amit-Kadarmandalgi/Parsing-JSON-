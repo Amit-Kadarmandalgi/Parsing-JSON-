{
  "nbformat": 4,
  "nbformat_minor": 0,
  "metadata": {
    "colab": {
      "provenance": [],
      "include_colab_link": true
    },
    "kernelspec": {
      "name": "python3",
      "display_name": "Python 3"
    },
    "language_info": {
      "name": "python"
    }
  },
  "cells": [
    {
      "cell_type": "markdown",
      "metadata": {
        "id": "view-in-github",
        "colab_type": "text"
      },
      "source": [
        "<a href=\"https://colab.research.google.com/github/Amit-Kadarmandalgi/Parsing-JSON-/blob/main/Parsing_JSON.ipynb\" target=\"_parent\"><img src=\"https://colab.research.google.com/assets/colab-badge.svg\" alt=\"Open In Colab\"/></a>"
      ]
    },
    {
      "cell_type": "code",
      "source": [
        "import pandas as pd"
      ],
      "metadata": {
        "id": "_TnR7uMTR7V_"
      },
      "execution_count": null,
      "outputs": []
    },
    {
      "cell_type": "code",
      "source": [
        "df = pd.read_csv('iris.csv')\n",
        "print(df.to_string()) "
      ],
      "metadata": {
        "colab": {
          "base_uri": "https://localhost:8080/"
        },
        "id": "0ubNFhP0StB6",
        "outputId": "6ba0c2e0-f9c5-48a6-99b5-6a0461ce7195"
      },
      "execution_count": null,
      "outputs": [
        {
          "output_type": "stream",
          "name": "stdout",
          "text": [
            "     sepal_length  sepal_width  petal_length  petal_width          species\n",
            "0             5.1          3.5           1.4          0.2      Iris-setosa\n",
            "1             4.9          3.0           1.4          0.2      Iris-setosa\n",
            "2             4.7          3.2           1.3          0.2      Iris-setosa\n",
            "3             4.6          3.1           1.5          0.2      Iris-setosa\n",
            "4             5.0          3.6           1.4          0.2      Iris-setosa\n",
            "5             5.4          3.9           1.7          0.4      Iris-setosa\n",
            "6             4.6          3.4           1.4          0.3      Iris-setosa\n",
            "7             5.0          3.4           1.5          0.2      Iris-setosa\n",
            "8             4.4          2.9           1.4          0.2      Iris-setosa\n",
            "9             4.9          3.1           1.5          0.1      Iris-setosa\n",
            "10            5.4          3.7           1.5          0.2      Iris-setosa\n",
            "11            4.8          3.4           1.6          0.2      Iris-setosa\n",
            "12            4.8          3.0           1.4          0.1      Iris-setosa\n",
            "13            4.3          3.0           1.1          0.1      Iris-setosa\n",
            "14            5.8          4.0           1.2          0.2      Iris-setosa\n",
            "15            5.7          4.4           1.5          0.4      Iris-setosa\n",
            "16            5.4          3.9           1.3          0.4      Iris-setosa\n",
            "17            5.1          3.5           1.4          0.3      Iris-setosa\n",
            "18            5.7          3.8           1.7          0.3      Iris-setosa\n",
            "19            5.1          3.8           1.5          0.3      Iris-setosa\n",
            "20            5.4          3.4           1.7          0.2      Iris-setosa\n",
            "21            5.1          3.7           1.5          0.4      Iris-setosa\n",
            "22            4.6          3.6           1.0          0.2      Iris-setosa\n",
            "23            5.1          3.3           1.7          0.5      Iris-setosa\n",
            "24            4.8          3.4           1.9          0.2      Iris-setosa\n",
            "25            5.0          3.0           1.6          0.2      Iris-setosa\n",
            "26            5.0          3.4           1.6          0.4      Iris-setosa\n",
            "27            5.2          3.5           1.5          0.2      Iris-setosa\n",
            "28            5.2          3.4           1.4          0.2      Iris-setosa\n",
            "29            4.7          3.2           1.6          0.2      Iris-setosa\n",
            "30            4.8          3.1           1.6          0.2      Iris-setosa\n",
            "31            5.4          3.4           1.5          0.4      Iris-setosa\n",
            "32            5.2          4.1           1.5          0.1      Iris-setosa\n",
            "33            5.5          4.2           1.4          0.2      Iris-setosa\n",
            "34            4.9          3.1           1.5          0.1      Iris-setosa\n",
            "35            5.0          3.2           1.2          0.2      Iris-setosa\n",
            "36            5.5          3.5           1.3          0.2      Iris-setosa\n",
            "37            4.9          3.1           1.5          0.1      Iris-setosa\n",
            "38            4.4          3.0           1.3          0.2      Iris-setosa\n",
            "39            5.1          3.4           1.5          0.2      Iris-setosa\n",
            "40            5.0          3.5           1.3          0.3      Iris-setosa\n",
            "41            4.5          2.3           1.3          0.3      Iris-setosa\n",
            "42            4.4          3.2           1.3          0.2      Iris-setosa\n",
            "43            5.0          3.5           1.6          0.6      Iris-setosa\n",
            "44            5.1          3.8           1.9          0.4      Iris-setosa\n",
            "45            4.8          3.0           1.4          0.3      Iris-setosa\n",
            "46            5.1          3.8           1.6          0.2      Iris-setosa\n",
            "47            4.6          3.2           1.4          0.2      Iris-setosa\n",
            "48            5.3          3.7           1.5          0.2      Iris-setosa\n",
            "49            5.0          3.3           1.4          0.2      Iris-setosa\n",
            "50            7.0          3.2           4.7          1.4  Iris-versicolor\n",
            "51            6.4          3.2           4.5          1.5  Iris-versicolor\n",
            "52            6.9          3.1           4.9          1.5  Iris-versicolor\n",
            "53            5.5          2.3           4.0          1.3  Iris-versicolor\n",
            "54            6.5          2.8           4.6          1.5  Iris-versicolor\n",
            "55            5.7          2.8           4.5          1.3  Iris-versicolor\n",
            "56            6.3          3.3           4.7          1.6  Iris-versicolor\n",
            "57            4.9          2.4           3.3          1.0  Iris-versicolor\n",
            "58            6.6          2.9           4.6          1.3  Iris-versicolor\n",
            "59            5.2          2.7           3.9          1.4  Iris-versicolor\n",
            "60            5.0          2.0           3.5          1.0  Iris-versicolor\n",
            "61            5.9          3.0           4.2          1.5  Iris-versicolor\n",
            "62            6.0          2.2           4.0          1.0  Iris-versicolor\n",
            "63            6.1          2.9           4.7          1.4  Iris-versicolor\n",
            "64            5.6          2.9           3.6          1.3  Iris-versicolor\n",
            "65            6.7          3.1           4.4          1.4  Iris-versicolor\n",
            "66            5.6          3.0           4.5          1.5  Iris-versicolor\n",
            "67            5.8          2.7           4.1          1.0  Iris-versicolor\n",
            "68            6.2          2.2           4.5          1.5  Iris-versicolor\n",
            "69            5.6          2.5           3.9          1.1  Iris-versicolor\n",
            "70            5.9          3.2           4.8          1.8  Iris-versicolor\n",
            "71            6.1          2.8           4.0          1.3  Iris-versicolor\n",
            "72            6.3          2.5           4.9          1.5  Iris-versicolor\n",
            "73            6.1          2.8           4.7          1.2  Iris-versicolor\n",
            "74            6.4          2.9           4.3          1.3  Iris-versicolor\n",
            "75            6.6          3.0           4.4          1.4  Iris-versicolor\n",
            "76            6.8          2.8           4.8          1.4  Iris-versicolor\n",
            "77            6.7          3.0           5.0          1.7  Iris-versicolor\n",
            "78            6.0          2.9           4.5          1.5  Iris-versicolor\n",
            "79            5.7          2.6           3.5          1.0  Iris-versicolor\n",
            "80            5.5          2.4           3.8          1.1  Iris-versicolor\n",
            "81            5.5          2.4           3.7          1.0  Iris-versicolor\n",
            "82            5.8          2.7           3.9          1.2  Iris-versicolor\n",
            "83            6.0          2.7           5.1          1.6  Iris-versicolor\n",
            "84            5.4          3.0           4.5          1.5  Iris-versicolor\n",
            "85            6.0          3.4           4.5          1.6  Iris-versicolor\n",
            "86            6.7          3.1           4.7          1.5  Iris-versicolor\n",
            "87            6.3          2.3           4.4          1.3  Iris-versicolor\n",
            "88            5.6          3.0           4.1          1.3  Iris-versicolor\n",
            "89            5.5          2.5           4.0          1.3  Iris-versicolor\n",
            "90            5.5          2.6           4.4          1.2  Iris-versicolor\n",
            "91            6.1          3.0           4.6          1.4  Iris-versicolor\n",
            "92            5.8          2.6           4.0          1.2  Iris-versicolor\n",
            "93            5.0          2.3           3.3          1.0  Iris-versicolor\n",
            "94            5.6          2.7           4.2          1.3  Iris-versicolor\n",
            "95            5.7          3.0           4.2          1.2  Iris-versicolor\n",
            "96            5.7          2.9           4.2          1.3  Iris-versicolor\n",
            "97            6.2          2.9           4.3          1.3  Iris-versicolor\n",
            "98            5.1          2.5           3.0          1.1  Iris-versicolor\n",
            "99            5.7          2.8           4.1          1.3  Iris-versicolor\n",
            "100           6.3          3.3           6.0          2.5   Iris-virginica\n",
            "101           5.8          2.7           5.1          1.9   Iris-virginica\n",
            "102           7.1          3.0           5.9          2.1   Iris-virginica\n",
            "103           6.3          2.9           5.6          1.8   Iris-virginica\n",
            "104           6.5          3.0           5.8          2.2   Iris-virginica\n",
            "105           7.6          3.0           6.6          2.1   Iris-virginica\n",
            "106           4.9          2.5           4.5          1.7   Iris-virginica\n",
            "107           7.3          2.9           6.3          1.8   Iris-virginica\n",
            "108           6.7          2.5           5.8          1.8   Iris-virginica\n",
            "109           7.2          3.6           6.1          2.5   Iris-virginica\n",
            "110           6.5          3.2           5.1          2.0   Iris-virginica\n",
            "111           6.4          2.7           5.3          1.9   Iris-virginica\n",
            "112           6.8          3.0           5.5          2.1   Iris-virginica\n",
            "113           5.7          2.5           5.0          2.0   Iris-virginica\n",
            "114           5.8          2.8           5.1          2.4   Iris-virginica\n",
            "115           6.4          3.2           5.3          2.3   Iris-virginica\n",
            "116           6.5          3.0           5.5          1.8   Iris-virginica\n",
            "117           7.7          3.8           6.7          2.2   Iris-virginica\n",
            "118           7.7          2.6           6.9          2.3   Iris-virginica\n",
            "119           6.0          2.2           5.0          1.5   Iris-virginica\n",
            "120           6.9          3.2           5.7          2.3   Iris-virginica\n",
            "121           5.6          2.8           4.9          2.0   Iris-virginica\n",
            "122           7.7          2.8           6.7          2.0   Iris-virginica\n",
            "123           6.3          2.7           4.9          1.8   Iris-virginica\n",
            "124           6.7          3.3           5.7          2.1   Iris-virginica\n",
            "125           7.2          3.2           6.0          1.8   Iris-virginica\n",
            "126           6.2          2.8           4.8          1.8   Iris-virginica\n",
            "127           6.1          3.0           4.9          1.8   Iris-virginica\n",
            "128           6.4          2.8           5.6          2.1   Iris-virginica\n",
            "129           7.2          3.0           5.8          1.6   Iris-virginica\n",
            "130           7.4          2.8           6.1          1.9   Iris-virginica\n",
            "131           7.9          3.8           6.4          2.0   Iris-virginica\n",
            "132           6.4          2.8           5.6          2.2   Iris-virginica\n",
            "133           6.3          2.8           5.1          1.5   Iris-virginica\n",
            "134           6.1          2.6           5.6          1.4   Iris-virginica\n",
            "135           7.7          3.0           6.1          2.3   Iris-virginica\n",
            "136           6.3          3.4           5.6          2.4   Iris-virginica\n",
            "137           6.4          3.1           5.5          1.8   Iris-virginica\n",
            "138           6.0          3.0           4.8          1.8   Iris-virginica\n",
            "139           6.9          3.1           5.4          2.1   Iris-virginica\n",
            "140           6.7          3.1           5.6          2.4   Iris-virginica\n",
            "141           6.9          3.1           5.1          2.3   Iris-virginica\n",
            "142           5.8          2.7           5.1          1.9   Iris-virginica\n",
            "143           6.8          3.2           5.9          2.3   Iris-virginica\n",
            "144           6.7          3.3           5.7          2.5   Iris-virginica\n",
            "145           6.7          3.0           5.2          2.3   Iris-virginica\n",
            "146           6.3          2.5           5.0          1.9   Iris-virginica\n",
            "147           6.5          3.0           5.2          2.0   Iris-virginica\n",
            "148           6.2          3.4           5.4          2.3   Iris-virginica\n",
            "149           5.9          3.0           5.1          1.8   Iris-virginica\n"
          ]
        }
      ]
    },
    {
      "cell_type": "code",
      "source": [
        "import pandas as pd\n",
        "import json\n",
        "from sklearn.pipeline import Pipeline\n",
        "from sklearn.impute import SimpleImputer\n",
        "from sklearn.preprocessing import StandardScaler\n",
        "from sklearn.decomposition import PCA\n",
        "from sklearn.feature_selection import SelectKBest, f_regression\n",
        "from sklearn.ensemble import RandomForestRegressor\n",
        "from sklearn.linear_model import LinearRegression\n",
        "from sklearn.model_selection import GridSearchCV\n",
        "\n",
        "# Read the JSON file\n",
        "with open('json.json') as f:\n",
        "    algoparams = json.load(f)"
      ],
      "metadata": {
        "id": "0_bB8FzFa-C6"
      },
      "execution_count": null,
      "outputs": []
    },
    {
      "cell_type": "code",
      "source": [],
      "metadata": {
        "id": "onuZhanvcVNR"
      },
      "execution_count": null,
      "outputs": []
    },
    {
      "cell_type": "code",
      "source": [
        "target = algoparams['design_state_data']['target']"
      ],
      "metadata": {
        "id": "9VoeDT2OcYv4"
      },
      "execution_count": null,
      "outputs": []
    },
    {
      "cell_type": "code",
      "source": [
        "target_column = target['target']"
      ],
      "metadata": {
        "id": "Pwr52YscdO3n"
      },
      "execution_count": null,
      "outputs": []
    },
    {
      "cell_type": "code",
      "source": [
        "target_column"
      ],
      "metadata": {
        "colab": {
          "base_uri": "https://localhost:8080/",
          "height": 35
        },
        "id": "cipc7fZZdbHm",
        "outputId": "b0032119-6b33-4415-f6c8-e07d9b660be9"
      },
      "execution_count": null,
      "outputs": [
        {
          "output_type": "execute_result",
          "data": {
            "text/plain": [
              "'petal_width'"
            ],
            "application/vnd.google.colaboratory.intrinsic+json": {
              "type": "string"
            }
          },
          "metadata": {},
          "execution_count": 289
        }
      ]
    },
    {
      "cell_type": "code",
      "source": [
        "feature_handling = algoparams['design_state_data']['feature_handling']"
      ],
      "metadata": {
        "id": "WtT7e0-3lhxI"
      },
      "execution_count": null,
      "outputs": []
    },
    {
      "cell_type": "code",
      "source": [
        "for key, value in feature_handling.items():\n",
        "  print(key)\n",
        "  print(value)"
      ],
      "metadata": {
        "colab": {
          "base_uri": "https://localhost:8080/"
        },
        "id": "bJ1SCrO4ajZu",
        "outputId": "c7003720-3c59-4ba3-e3cf-d535f7fd0a6c"
      },
      "execution_count": null,
      "outputs": [
        {
          "output_type": "stream",
          "name": "stdout",
          "text": [
            "sepal_length\n",
            "{'feature_name': 'sepal_length', 'is_selected': True, 'feature_variable_type': 'numerical', 'feature_details': {'numerical_handling': 'Keep as regular numerical feature', 'rescaling': 'No rescaling', 'make_derived_feats': False, 'missing_values': 'Impute', 'impute_with': 'Average of values', 'impute_value': 0}}\n",
            "sepal_width\n",
            "{'feature_name': 'sepal_width', 'is_selected': True, 'feature_variable_type': 'numerical', 'feature_details': {'numerical_handling': 'Keep as regular numerical feature', 'rescaling': 'No rescaling', 'make_derived_feats': False, 'missing_values': 'Impute', 'impute_with': 'custom', 'impute_value': -1}}\n",
            "petal_length\n",
            "{'feature_name': 'petal_length', 'is_selected': True, 'feature_variable_type': 'numerical', 'feature_details': {'numerical_handling': 'Keep as regular numerical feature', 'rescaling': 'No rescaling', 'make_derived_feats': False, 'missing_values': 'Impute', 'impute_with': 'Average of values', 'impute_value': 0}}\n",
            "petal_width\n",
            "{'feature_name': 'petal_width', 'is_selected': True, 'feature_variable_type': 'numerical', 'feature_details': {'numerical_handling': 'Keep as regular numerical feature', 'rescaling': 'No rescaling', 'make_derived_feats': False, 'missing_values': 'Impute', 'impute_with': 'custom', 'impute_value': -2}}\n",
            "species\n",
            "{'feature_name': 'species', 'is_selected': True, 'feature_variable_type': 'text', 'feature_details': {'text_handling': 'Tokenize and hash', 'hash_columns': 0}}\n"
          ]
        }
      ]
    },
    {
      "cell_type": "code",
      "source": [
        "feature_reduction = algoparams['design_state_data']['feature_reduction']"
      ],
      "metadata": {
        "id": "h_wbNer3alS_"
      },
      "execution_count": null,
      "outputs": []
    },
    {
      "cell_type": "code",
      "source": [
        "feature_reduction"
      ],
      "metadata": {
        "colab": {
          "base_uri": "https://localhost:8080/"
        },
        "id": "NmqsvfSWbHMb",
        "outputId": "c7de20ea-ef7b-4513-8d4a-a0d344e12dbe"
      },
      "execution_count": null,
      "outputs": [
        {
          "output_type": "execute_result",
          "data": {
            "text/plain": [
              "{'feature_reduction_method': 'Tree-based',\n",
              " 'num_of_features_to_keep': '4',\n",
              " 'num_of_trees': '5',\n",
              " 'depth_of_trees': '6'}"
            ]
          },
          "metadata": {},
          "execution_count": 293
        }
      ]
    },
    {
      "cell_type": "code",
      "source": [
        "#  From Target part of JSON, pick up the prediction_type , target_column and type. "
      ],
      "metadata": {
        "id": "M7EfHPRob1zP"
      },
      "execution_count": null,
      "outputs": []
    },
    {
      "cell_type": "code",
      "source": [
        "# For the column picked up from target, check the same in json and fetch the corresponding config. Use this column name to fetch data from CSV Dataframe "
      ],
      "metadata": {
        "id": "XKU-rVZAcpuQ"
      },
      "execution_count": null,
      "outputs": []
    },
    {
      "cell_type": "code",
      "source": [
        "# Compute Feature Reduction as given in the JSON. "
      ],
      "metadata": {
        "id": "IP3OHagEc6od"
      },
      "execution_count": null,
      "outputs": []
    },
    {
      "cell_type": "code",
      "source": [],
      "metadata": {
        "id": "l3v6_pzldCf7"
      },
      "execution_count": null,
      "outputs": []
    },
    {
      "cell_type": "code",
      "source": [
        "feature_handling = algoparams['design_state_data']['feature_handling']"
      ],
      "metadata": {
        "id": "8OTRRjf4eA1s"
      },
      "execution_count": null,
      "outputs": []
    },
    {
      "cell_type": "code",
      "source": [
        "feature_handling[target_column]"
      ],
      "metadata": {
        "colab": {
          "base_uri": "https://localhost:8080/"
        },
        "id": "7gkyfQjLfaEc",
        "outputId": "1e263cc8-5dc4-4c7b-b902-40e2f57dcd3e"
      },
      "execution_count": null,
      "outputs": [
        {
          "output_type": "execute_result",
          "data": {
            "text/plain": [
              "{'feature_name': 'petal_width',\n",
              " 'is_selected': True,\n",
              " 'feature_variable_type': 'numerical',\n",
              " 'feature_details': {'numerical_handling': 'Keep as regular numerical feature',\n",
              "  'rescaling': 'No rescaling',\n",
              "  'make_derived_feats': False,\n",
              "  'missing_values': 'Impute',\n",
              "  'impute_with': 'custom',\n",
              "  'impute_value': -2}}"
            ]
          },
          "metadata": {},
          "execution_count": 295
        }
      ]
    },
    {
      "cell_type": "markdown",
      "source": [
        "Imputation"
      ],
      "metadata": {
        "id": "cvyi8ytPhWg_"
      }
    },
    {
      "cell_type": "code",
      "source": [
        "imputer = None\n",
        "if feature_handling[target_column]['feature_details']['impute_with'] == 'custom' : \n",
        "  imputer = SimpleImputer(strategy='constant',\n",
        "                        fill_value=feature_handling[target_column]['feature_details']['impute_value'])\n",
        "elif feature_handling[target_column]['feature_details']['impute_with'] == 'Average of values' :\n",
        "  imputer = SimpleImputer(strategy='mean',\n",
        "                        fill_value=feature_handling[target_column]['feature_details']['impute_value'])\n",
        "elif feature_handling[target_column]['feature_details']['impute_with'] == 'Average of values' :\n",
        "  imputer = SimpleImputer(strategy='median',\n",
        "                        fill_value=feature_handling[target_column]['feature_details']['impute_value'])\n",
        "scaler = StandardScaler()\n",
        "imputer = imputer.fit(df[[target_column]])"
      ],
      "metadata": {
        "id": "C4NFchaTeERL"
      },
      "execution_count": null,
      "outputs": []
    },
    {
      "cell_type": "code",
      "source": [
        "df[target_column] = imputer.transform(df[[target_column]])"
      ],
      "metadata": {
        "id": "odaOq-y5evcc"
      },
      "execution_count": null,
      "outputs": []
    },
    {
      "cell_type": "code",
      "source": [
        "data = df[target_column] "
      ],
      "metadata": {
        "id": "CEXWIp83fmIZ"
      },
      "execution_count": null,
      "outputs": []
    },
    {
      "cell_type": "code",
      "source": [],
      "metadata": {
        "id": "nhnhrwh2MCHk"
      },
      "execution_count": null,
      "outputs": []
    },
    {
      "cell_type": "markdown",
      "source": [
        "Compute feature reduction based on input"
      ],
      "metadata": {
        "id": "JxRtivE5hyFD"
      }
    },
    {
      "cell_type": "code",
      "source": [
        "reduction_type = algoparams['design_state_data']['feature_reduction']"
      ],
      "metadata": {
        "id": "QS_-T--lhbsv"
      },
      "execution_count": null,
      "outputs": []
    },
    {
      "cell_type": "code",
      "source": [
        "reduction_type_method = reduction_type['feature_reduction_method']"
      ],
      "metadata": {
        "id": "lEiJDkO0h2OL"
      },
      "execution_count": null,
      "outputs": []
    },
    {
      "cell_type": "code",
      "source": [
        "if reduction_type_method == 'Principal Component Analysis':\n",
        "    reducer = PCA(n_components=reduction_type['n_components'])\n",
        "elif reduction_type_method == 'Correlation with target':\n",
        "    reducer = SelectKBest(score_func=f_regression, k=reduction_type['k'])\n",
        "# elif reduction_type_method == 'Tree-based':\n",
        "#     # Code for Tree_based reduction \n",
        "else:\n",
        "    reducer = None"
      ],
      "metadata": {
        "id": "LeUY8vU-iAla"
      },
      "execution_count": null,
      "outputs": []
    },
    {
      "cell_type": "code",
      "source": [
        "reduction_type_method"
      ],
      "metadata": {
        "colab": {
          "base_uri": "https://localhost:8080/",
          "height": 35
        },
        "id": "72jxTfu2kHxA",
        "outputId": "04aef02c-18b8-40c7-b373-150d654e3fac"
      },
      "execution_count": null,
      "outputs": [
        {
          "output_type": "execute_result",
          "data": {
            "text/plain": [
              "'Tree-based'"
            ],
            "application/vnd.google.colaboratory.intrinsic+json": {
              "type": "string"
            }
          },
          "metadata": {},
          "execution_count": 302
        }
      ]
    },
    {
      "cell_type": "code",
      "source": [
        "model = None"
      ],
      "metadata": {
        "id": "b_5UP5JxoiB2"
      },
      "execution_count": null,
      "outputs": []
    },
    {
      "cell_type": "code",
      "source": [
        "algorithmList = algoparams['design_state_data']['algorithms']"
      ],
      "metadata": {
        "id": "TLRvZ0-QkNnL"
      },
      "execution_count": null,
      "outputs": []
    },
    {
      "cell_type": "code",
      "source": [
        "algorithmList['RandomForestClassifier']['is_selected'] = True \n",
        "algorithmList['RandomForestRegressor']['is_selected'] = False "
      ],
      "metadata": {
        "id": "GZSyFygBr0VM"
      },
      "execution_count": null,
      "outputs": []
    },
    {
      "cell_type": "code",
      "source": [
        "for key,value in algorithmList.items():\n",
        "  if value['is_selected']:\n",
        "    print(key)"
      ],
      "metadata": {
        "colab": {
          "base_uri": "https://localhost:8080/"
        },
        "id": "RfIzsLWEol-6",
        "outputId": "91508b33-1453-42f1-fd86-d76aad05a89e"
      },
      "execution_count": null,
      "outputs": [
        {
          "output_type": "stream",
          "name": "stdout",
          "text": [
            "RandomForestRegressor\n"
          ]
        }
      ]
    },
    {
      "cell_type": "code",
      "source": [
        "from sklearn.linear_model import LogisticRegression\n",
        "from sklearn.tree import DecisionTreeClassifier\n",
        "from sklearn.ensemble import RandomForestClassifier\n",
        "from sklearn.ensemble import RandomForestRegressor\n",
        "from sklearn.ensemble import GradientBoostingClassifier\n",
        "from sklearn.model_selection import GridSearchCV\n",
        "import random\n",
        "from sklearn import metrics\n",
        "from sklearn.model_selection import train_test_split\n",
        "import warnings"
      ],
      "metadata": {
        "id": "CeGYZ-1TpXon"
      },
      "execution_count": null,
      "outputs": []
    },
    {
      "cell_type": "code",
      "source": [
        "for key,value in algorithmList.items():\n",
        "  if value['is_selected'] :\n",
        "    if key == 'RandomForestClassifier':\n",
        "      print(\"RandomForestClassifier\")\n",
        "      config = {\n",
        "      \"min_trees\": value['min_trees'],\n",
        "      \"max_trees\": value['max_trees'],\n",
        "      # \"feature_sampling_statergy\": value['feature_sampling_statergy'],\n",
        "      \"feature_sampling_statergy\": 'auto',\n",
        "      \"min_depth\": value['min_depth'],\n",
        "      \"max_depth\": value['max_depth'],\n",
        "      \"min_samples_per_leaf_min_value\": value['min_samples_per_leaf_min_value'],\n",
        "      \"min_samples_per_leaf_max_value\": value['min_samples_per_leaf_min_value'],\n",
        "      \"parallelism\": value['parallelism']\n",
        "      }\n",
        "\n",
        "      n_estimators = random.randint(config[\"min_trees\"], config[\"max_trees\"])\n",
        "      max_features = config[\"feature_sampling_statergy\"]\n",
        "      min_samples_split = random.randint(config[\"min_samples_per_leaf_min_value\"], config[\"min_samples_per_leaf_max_value\"])\n",
        "      min_samples_leaf = random.randint(config[\"min_samples_per_leaf_min_value\"], config[\"min_samples_per_leaf_max_value\"])\n",
        "      max_depth = random.randint(config[\"min_depth\"], config[\"max_depth\"])\n",
        "      # n_jobs = config[\"parallelism\"]\n",
        "      n_jobs = 1\n",
        "\n",
        "      model = RandomForestClassifier(\n",
        "          n_estimators=n_estimators,\n",
        "          max_features=max_features,\n",
        "          min_samples_split=min_samples_split,\n",
        "          min_samples_leaf=min_samples_leaf,\n",
        "          max_depth=max_depth,\n",
        "          n_jobs=n_jobs)\n",
        "    elif key == 'RandomForestRegressor':\n",
        "      print(\"RandomForestRegression\")\n",
        "      config = {\n",
        "      \"min_trees\": value['min_trees'],\n",
        "      \"max_trees\": value['max_trees'],\n",
        "      \"feature_sampling_statergy\": 'auto',\n",
        "      \"min_depth\": value['min_depth'],\n",
        "      \"max_depth\": value['max_depth'],\n",
        "      \"min_samples_per_leaf_min_value\": value['min_samples_per_leaf_min_value'],\n",
        "      \"min_samples_per_leaf_max_value\": value['min_samples_per_leaf_min_value'],\n",
        "      \"parallelism\": value['parallelism']\n",
        "      }\n",
        "      model = RandomForestRegressor(\n",
        "      n_estimators=10,  # Use min_trees value\n",
        "      criterion='squared_error',\n",
        "      max_depth=None,\n",
        "      min_samples_split=2,\n",
        "      min_samples_leaf=config[\"min_samples_per_leaf_min_value\"],\n",
        "      min_weight_fraction_leaf=0.0,\n",
        "      max_features=config[\"feature_sampling_statergy\"],\n",
        "      max_leaf_nodes=None,\n",
        "      bootstrap=True,\n",
        "      oob_score=False,\n",
        "      n_jobs=-1 if config[\"parallelism\"] == 1 else None,\n",
        "      random_state=None,\n",
        "      verbose=0,\n",
        "      warm_start=False)\n",
        "      print(\"Done modelling\")\n",
        "    elif key == 'GBTClassifier' : \n",
        "      config = {\n",
        "      \"num_of_BoostingStages\": value['num_of_BoostingStages'],\n",
        "      \"feature_sampling_statergy\": value['feature_sampling_statergy'],\n",
        "      \"learningRate\": value['learningRate'],\n",
        "      \"use_deviance\": value['use_deviance'],\n",
        "      \"use_exponential\": value['use_exponential'],\n",
        "      \"fixed_number\": value['fixed_number'],\n",
        "      \"min_subsample\": value['min_subsample'],\n",
        "      \"max_subsample\": value['max_subsample'],\n",
        "      \"min_stepsize\": value['min_stepsize'],\n",
        "      \"max_stepsize\": value['max_stepsize'],\n",
        "      \"min_iter\": value['min_iter'],\n",
        "      \"max_iter\": value['max_iter'],\n",
        "      \"min_depth\": value['min_depth'],\n",
        "      \"max_depth\": value['max_depth']\n",
        "      }\n",
        "\n",
        "      model = GradientBoostingClassifier(\n",
        "          n_estimators=config[\"num_of_BoostingStages\"][0],\n",
        "          learning_rate=config[\"min_stepsize\"],\n",
        "          subsample=config[\"min_subsample\"],\n",
        "          max_depth=config[\"min_depth\"],\n",
        "          max_features=config[\"fixed_number\"],\n",
        "          verbose=1,\n",
        "          random_state=42\n",
        "      )\n",
        "      \n",
        "\n",
        "    # elif key == 'GBTRegressor' :\n",
        "    # elif key == 'LinearRegression':\n",
        "    # elif key == 'LogisticRegression':\n",
        "    # elif key == 'RidgeRegression':\n",
        "    # elif key == 'LassoRegression':\n",
        "    # elif key == 'ElasticNetRegression':\n",
        "    # elif key == 'xg_boost':\n",
        "    # elif key == 'DecisionTreeRegressor':\n",
        "    # elif key == 'DecisionTreeClassifier':\n",
        "    # elif key == 'SVM':\n",
        "    # elif key == 'SGD':\n",
        "    # elif key == 'KNN':\n",
        "    # elif key == 'extra_random_tree':\n",
        "    # elif key == 'neural_network':\n",
        "    else:\n",
        "      model = None                  \n",
        "\n",
        "\n",
        "    \n"
      ],
      "metadata": {
        "colab": {
          "base_uri": "https://localhost:8080/"
        },
        "id": "jl44H59bkPdb",
        "outputId": "cc4ca506-344c-408d-ee3b-f3dddc933c55"
      },
      "execution_count": null,
      "outputs": [
        {
          "output_type": "stream",
          "name": "stdout",
          "text": [
            "RandomForestClassifier\n"
          ]
        }
      ]
    },
    {
      "cell_type": "code",
      "source": [
        "model"
      ],
      "metadata": {
        "colab": {
          "base_uri": "https://localhost:8080/",
          "height": 92
        },
        "id": "tL78n3VGzMsU",
        "outputId": "8dc19a03-452f-4810-c606-46adde84baad"
      },
      "execution_count": null,
      "outputs": [
        {
          "output_type": "execute_result",
          "data": {
            "text/plain": [
              "RandomForestClassifier(max_depth=24, max_features='auto', min_samples_leaf=5,\n",
              "                       min_samples_split=5, n_estimators=16, n_jobs=1)"
            ],
            "text/html": [
              "<style>#sk-container-id-39 {color: black;background-color: white;}#sk-container-id-39 pre{padding: 0;}#sk-container-id-39 div.sk-toggleable {background-color: white;}#sk-container-id-39 label.sk-toggleable__label {cursor: pointer;display: block;width: 100%;margin-bottom: 0;padding: 0.3em;box-sizing: border-box;text-align: center;}#sk-container-id-39 label.sk-toggleable__label-arrow:before {content: \"▸\";float: left;margin-right: 0.25em;color: #696969;}#sk-container-id-39 label.sk-toggleable__label-arrow:hover:before {color: black;}#sk-container-id-39 div.sk-estimator:hover label.sk-toggleable__label-arrow:before {color: black;}#sk-container-id-39 div.sk-toggleable__content {max-height: 0;max-width: 0;overflow: hidden;text-align: left;background-color: #f0f8ff;}#sk-container-id-39 div.sk-toggleable__content pre {margin: 0.2em;color: black;border-radius: 0.25em;background-color: #f0f8ff;}#sk-container-id-39 input.sk-toggleable__control:checked~div.sk-toggleable__content {max-height: 200px;max-width: 100%;overflow: auto;}#sk-container-id-39 input.sk-toggleable__control:checked~label.sk-toggleable__label-arrow:before {content: \"▾\";}#sk-container-id-39 div.sk-estimator input.sk-toggleable__control:checked~label.sk-toggleable__label {background-color: #d4ebff;}#sk-container-id-39 div.sk-label input.sk-toggleable__control:checked~label.sk-toggleable__label {background-color: #d4ebff;}#sk-container-id-39 input.sk-hidden--visually {border: 0;clip: rect(1px 1px 1px 1px);clip: rect(1px, 1px, 1px, 1px);height: 1px;margin: -1px;overflow: hidden;padding: 0;position: absolute;width: 1px;}#sk-container-id-39 div.sk-estimator {font-family: monospace;background-color: #f0f8ff;border: 1px dotted black;border-radius: 0.25em;box-sizing: border-box;margin-bottom: 0.5em;}#sk-container-id-39 div.sk-estimator:hover {background-color: #d4ebff;}#sk-container-id-39 div.sk-parallel-item::after {content: \"\";width: 100%;border-bottom: 1px solid gray;flex-grow: 1;}#sk-container-id-39 div.sk-label:hover label.sk-toggleable__label {background-color: #d4ebff;}#sk-container-id-39 div.sk-serial::before {content: \"\";position: absolute;border-left: 1px solid gray;box-sizing: border-box;top: 0;bottom: 0;left: 50%;z-index: 0;}#sk-container-id-39 div.sk-serial {display: flex;flex-direction: column;align-items: center;background-color: white;padding-right: 0.2em;padding-left: 0.2em;position: relative;}#sk-container-id-39 div.sk-item {position: relative;z-index: 1;}#sk-container-id-39 div.sk-parallel {display: flex;align-items: stretch;justify-content: center;background-color: white;position: relative;}#sk-container-id-39 div.sk-item::before, #sk-container-id-39 div.sk-parallel-item::before {content: \"\";position: absolute;border-left: 1px solid gray;box-sizing: border-box;top: 0;bottom: 0;left: 50%;z-index: -1;}#sk-container-id-39 div.sk-parallel-item {display: flex;flex-direction: column;z-index: 1;position: relative;background-color: white;}#sk-container-id-39 div.sk-parallel-item:first-child::after {align-self: flex-end;width: 50%;}#sk-container-id-39 div.sk-parallel-item:last-child::after {align-self: flex-start;width: 50%;}#sk-container-id-39 div.sk-parallel-item:only-child::after {width: 0;}#sk-container-id-39 div.sk-dashed-wrapped {border: 1px dashed gray;margin: 0 0.4em 0.5em 0.4em;box-sizing: border-box;padding-bottom: 0.4em;background-color: white;}#sk-container-id-39 div.sk-label label {font-family: monospace;font-weight: bold;display: inline-block;line-height: 1.2em;}#sk-container-id-39 div.sk-label-container {text-align: center;}#sk-container-id-39 div.sk-container {/* jupyter's `normalize.less` sets `[hidden] { display: none; }` but bootstrap.min.css set `[hidden] { display: none !important; }` so we also need the `!important` here to be able to override the default hidden behavior on the sphinx rendered scikit-learn.org. See: https://github.com/scikit-learn/scikit-learn/issues/21755 */display: inline-block !important;position: relative;}#sk-container-id-39 div.sk-text-repr-fallback {display: none;}</style><div id=\"sk-container-id-39\" class=\"sk-top-container\"><div class=\"sk-text-repr-fallback\"><pre>RandomForestClassifier(max_depth=24, max_features=&#x27;auto&#x27;, min_samples_leaf=5,\n",
              "                       min_samples_split=5, n_estimators=16, n_jobs=1)</pre><b>In a Jupyter environment, please rerun this cell to show the HTML representation or trust the notebook. <br />On GitHub, the HTML representation is unable to render, please try loading this page with nbviewer.org.</b></div><div class=\"sk-container\" hidden><div class=\"sk-item\"><div class=\"sk-estimator sk-toggleable\"><input class=\"sk-toggleable__control sk-hidden--visually\" id=\"sk-estimator-id-95\" type=\"checkbox\" checked><label for=\"sk-estimator-id-95\" class=\"sk-toggleable__label sk-toggleable__label-arrow\">RandomForestClassifier</label><div class=\"sk-toggleable__content\"><pre>RandomForestClassifier(max_depth=24, max_features=&#x27;auto&#x27;, min_samples_leaf=5,\n",
              "                       min_samples_split=5, n_estimators=16, n_jobs=1)</pre></div></div></div></div></div>"
            ]
          },
          "metadata": {},
          "execution_count": 426
        }
      ]
    },
    {
      "cell_type": "code",
      "source": [
        "jsonHyperParam = algoparams['design_state_data']['hyperparameters']"
      ],
      "metadata": {
        "id": "cIyeNuGlnQi9"
      },
      "execution_count": null,
      "outputs": []
    },
    {
      "cell_type": "code",
      "source": [
        "jsonHyperParam"
      ],
      "metadata": {
        "colab": {
          "base_uri": "https://localhost:8080/"
        },
        "id": "HE2bNqWfwwGH",
        "outputId": "b631c252-2c9f-459a-e8cd-04bfb3c6dd33"
      },
      "execution_count": null,
      "outputs": [
        {
          "output_type": "execute_result",
          "data": {
            "text/plain": [
              "{'stratergy': 'Grid Search',\n",
              " 'shuffle_grid': True,\n",
              " 'random_state': 1,\n",
              " 'max_iterations': 2,\n",
              " 'max_search_time': 3,\n",
              " 'parallelism': 5,\n",
              " 'cross_validation_stratergy': 'Time-based K-fold(with overlap)',\n",
              " 'num_of_folds': 6,\n",
              " 'split_ratio': 0,\n",
              " 'stratified': True}"
            ]
          },
          "metadata": {},
          "execution_count": 407
        }
      ]
    },
    {
      "cell_type": "code",
      "source": [
        "strategyList = []\n",
        "strategyList.append(jsonHyperParam['stratergy'])\n",
        "shuffleGridList = []\n",
        "shuffleGridList.append(jsonHyperParam['shuffle_grid'])\n",
        "randomStateList = []\n",
        "randomStateList.append(jsonHyperParam['random_state'])\n",
        "maxIterationList = []\n",
        "maxIterationList.append(jsonHyperParam['max_iterations'])\n",
        "maxSearchTimeList = []\n",
        "maxSearchTimeList.append(jsonHyperParam['max_search_time'])\n",
        "parallelismList=[]\n",
        "parallelismList.append(jsonHyperParam['parallelism'])\n",
        "cvsList = []\n",
        "cvsList.append(jsonHyperParam['cross_validation_stratergy'])\n",
        "noFolds = []\n",
        "noFolds.append(jsonHyperParam['num_of_folds'])\n",
        "splitList = []\n",
        "splitList.append(jsonHyperParam['split_ratio'])\n",
        "sList = []\n",
        "sList.append(jsonHyperParam['stratified'])\n",
        "hyperparameters = {\n",
        "    # 'strategy' : strategyList,\n",
        "    # 'shuffle_grid' : shuffleGridList,\n",
        "    'random_state' : randomStateList,\n",
        "    # 'max_iterations': maxIterationList,\n",
        "    # 'max_search_time' : maxSearchTimeList,\n",
        "    # 'parallelism':parallelismList,\n",
        "    # 'cross_validation_stratergy' : cvsList,\n",
        "    # 'num_of_folds': noFolds,\n",
        "    # 'split_ratio': splitList,\n",
        "    # 'stratified': sList\n",
        "}"
      ],
      "metadata": {
        "id": "vGf0hx_-w09a"
      },
      "execution_count": null,
      "outputs": []
    },
    {
      "cell_type": "code",
      "source": [
        "hyperparameters"
      ],
      "metadata": {
        "colab": {
          "base_uri": "https://localhost:8080/"
        },
        "id": "1Ddhvz6b0IG-",
        "outputId": "ebbe13ef-ccd0-40b1-9f57-139cc898757e"
      },
      "execution_count": null,
      "outputs": [
        {
          "output_type": "execute_result",
          "data": {
            "text/plain": [
              "{'random_state': [1]}"
            ]
          },
          "metadata": {},
          "execution_count": 409
        }
      ]
    },
    {
      "cell_type": "code",
      "source": [
        "clf = GridSearchCV(model,hyperparameters,cv = 5,scoring='accuracy')"
      ],
      "metadata": {
        "id": "zQXXcbEgx3SM"
      },
      "execution_count": null,
      "outputs": []
    },
    {
      "cell_type": "code",
      "source": [
        "clf"
      ],
      "metadata": {
        "colab": {
          "base_uri": "https://localhost:8080/",
          "height": 118
        },
        "id": "bj6cSBMgyNNj",
        "outputId": "6b36e9a1-ab20-43ea-cd88-2553b0324882"
      },
      "execution_count": null,
      "outputs": [
        {
          "output_type": "execute_result",
          "data": {
            "text/plain": [
              "GridSearchCV(cv=5,\n",
              "             estimator=RandomForestClassifier(max_depth=24, max_features='auto',\n",
              "                                              min_samples_leaf=5,\n",
              "                                              min_samples_split=5,\n",
              "                                              n_estimators=16, n_jobs=1),\n",
              "             param_grid={'random_state': [1]}, scoring='accuracy')"
            ],
            "text/html": [
              "<style>#sk-container-id-41 {color: black;background-color: white;}#sk-container-id-41 pre{padding: 0;}#sk-container-id-41 div.sk-toggleable {background-color: white;}#sk-container-id-41 label.sk-toggleable__label {cursor: pointer;display: block;width: 100%;margin-bottom: 0;padding: 0.3em;box-sizing: border-box;text-align: center;}#sk-container-id-41 label.sk-toggleable__label-arrow:before {content: \"▸\";float: left;margin-right: 0.25em;color: #696969;}#sk-container-id-41 label.sk-toggleable__label-arrow:hover:before {color: black;}#sk-container-id-41 div.sk-estimator:hover label.sk-toggleable__label-arrow:before {color: black;}#sk-container-id-41 div.sk-toggleable__content {max-height: 0;max-width: 0;overflow: hidden;text-align: left;background-color: #f0f8ff;}#sk-container-id-41 div.sk-toggleable__content pre {margin: 0.2em;color: black;border-radius: 0.25em;background-color: #f0f8ff;}#sk-container-id-41 input.sk-toggleable__control:checked~div.sk-toggleable__content {max-height: 200px;max-width: 100%;overflow: auto;}#sk-container-id-41 input.sk-toggleable__control:checked~label.sk-toggleable__label-arrow:before {content: \"▾\";}#sk-container-id-41 div.sk-estimator input.sk-toggleable__control:checked~label.sk-toggleable__label {background-color: #d4ebff;}#sk-container-id-41 div.sk-label input.sk-toggleable__control:checked~label.sk-toggleable__label {background-color: #d4ebff;}#sk-container-id-41 input.sk-hidden--visually {border: 0;clip: rect(1px 1px 1px 1px);clip: rect(1px, 1px, 1px, 1px);height: 1px;margin: -1px;overflow: hidden;padding: 0;position: absolute;width: 1px;}#sk-container-id-41 div.sk-estimator {font-family: monospace;background-color: #f0f8ff;border: 1px dotted black;border-radius: 0.25em;box-sizing: border-box;margin-bottom: 0.5em;}#sk-container-id-41 div.sk-estimator:hover {background-color: #d4ebff;}#sk-container-id-41 div.sk-parallel-item::after {content: \"\";width: 100%;border-bottom: 1px solid gray;flex-grow: 1;}#sk-container-id-41 div.sk-label:hover label.sk-toggleable__label {background-color: #d4ebff;}#sk-container-id-41 div.sk-serial::before {content: \"\";position: absolute;border-left: 1px solid gray;box-sizing: border-box;top: 0;bottom: 0;left: 50%;z-index: 0;}#sk-container-id-41 div.sk-serial {display: flex;flex-direction: column;align-items: center;background-color: white;padding-right: 0.2em;padding-left: 0.2em;position: relative;}#sk-container-id-41 div.sk-item {position: relative;z-index: 1;}#sk-container-id-41 div.sk-parallel {display: flex;align-items: stretch;justify-content: center;background-color: white;position: relative;}#sk-container-id-41 div.sk-item::before, #sk-container-id-41 div.sk-parallel-item::before {content: \"\";position: absolute;border-left: 1px solid gray;box-sizing: border-box;top: 0;bottom: 0;left: 50%;z-index: -1;}#sk-container-id-41 div.sk-parallel-item {display: flex;flex-direction: column;z-index: 1;position: relative;background-color: white;}#sk-container-id-41 div.sk-parallel-item:first-child::after {align-self: flex-end;width: 50%;}#sk-container-id-41 div.sk-parallel-item:last-child::after {align-self: flex-start;width: 50%;}#sk-container-id-41 div.sk-parallel-item:only-child::after {width: 0;}#sk-container-id-41 div.sk-dashed-wrapped {border: 1px dashed gray;margin: 0 0.4em 0.5em 0.4em;box-sizing: border-box;padding-bottom: 0.4em;background-color: white;}#sk-container-id-41 div.sk-label label {font-family: monospace;font-weight: bold;display: inline-block;line-height: 1.2em;}#sk-container-id-41 div.sk-label-container {text-align: center;}#sk-container-id-41 div.sk-container {/* jupyter's `normalize.less` sets `[hidden] { display: none; }` but bootstrap.min.css set `[hidden] { display: none !important; }` so we also need the `!important` here to be able to override the default hidden behavior on the sphinx rendered scikit-learn.org. See: https://github.com/scikit-learn/scikit-learn/issues/21755 */display: inline-block !important;position: relative;}#sk-container-id-41 div.sk-text-repr-fallback {display: none;}</style><div id=\"sk-container-id-41\" class=\"sk-top-container\"><div class=\"sk-text-repr-fallback\"><pre>GridSearchCV(cv=5,\n",
              "             estimator=RandomForestClassifier(max_depth=24, max_features=&#x27;auto&#x27;,\n",
              "                                              min_samples_leaf=5,\n",
              "                                              min_samples_split=5,\n",
              "                                              n_estimators=16, n_jobs=1),\n",
              "             param_grid={&#x27;random_state&#x27;: [1]}, scoring=&#x27;accuracy&#x27;)</pre><b>In a Jupyter environment, please rerun this cell to show the HTML representation or trust the notebook. <br />On GitHub, the HTML representation is unable to render, please try loading this page with nbviewer.org.</b></div><div class=\"sk-container\" hidden><div class=\"sk-item sk-dashed-wrapped\"><div class=\"sk-label-container\"><div class=\"sk-label sk-toggleable\"><input class=\"sk-toggleable__control sk-hidden--visually\" id=\"sk-estimator-id-97\" type=\"checkbox\" ><label for=\"sk-estimator-id-97\" class=\"sk-toggleable__label sk-toggleable__label-arrow\">GridSearchCV</label><div class=\"sk-toggleable__content\"><pre>GridSearchCV(cv=5,\n",
              "             estimator=RandomForestClassifier(max_depth=24, max_features=&#x27;auto&#x27;,\n",
              "                                              min_samples_leaf=5,\n",
              "                                              min_samples_split=5,\n",
              "                                              n_estimators=16, n_jobs=1),\n",
              "             param_grid={&#x27;random_state&#x27;: [1]}, scoring=&#x27;accuracy&#x27;)</pre></div></div></div><div class=\"sk-parallel\"><div class=\"sk-parallel-item\"><div class=\"sk-item\"><div class=\"sk-label-container\"><div class=\"sk-label sk-toggleable\"><input class=\"sk-toggleable__control sk-hidden--visually\" id=\"sk-estimator-id-98\" type=\"checkbox\" ><label for=\"sk-estimator-id-98\" class=\"sk-toggleable__label sk-toggleable__label-arrow\">estimator: RandomForestClassifier</label><div class=\"sk-toggleable__content\"><pre>RandomForestClassifier(max_depth=24, max_features=&#x27;auto&#x27;, min_samples_leaf=5,\n",
              "                       min_samples_split=5, n_estimators=16, n_jobs=1)</pre></div></div></div><div class=\"sk-serial\"><div class=\"sk-item\"><div class=\"sk-estimator sk-toggleable\"><input class=\"sk-toggleable__control sk-hidden--visually\" id=\"sk-estimator-id-99\" type=\"checkbox\" ><label for=\"sk-estimator-id-99\" class=\"sk-toggleable__label sk-toggleable__label-arrow\">RandomForestClassifier</label><div class=\"sk-toggleable__content\"><pre>RandomForestClassifier(max_depth=24, max_features=&#x27;auto&#x27;, min_samples_leaf=5,\n",
              "                       min_samples_split=5, n_estimators=16, n_jobs=1)</pre></div></div></div></div></div></div></div></div></div></div>"
            ]
          },
          "metadata": {},
          "execution_count": 432
        }
      ]
    },
    {
      "cell_type": "code",
      "source": [
        "df\n"
      ],
      "metadata": {
        "colab": {
          "base_uri": "https://localhost:8080/",
          "height": 424
        },
        "id": "ZSo5TvTLyOIL",
        "outputId": "bd6b5600-0f57-473e-f7d5-5223a3ab22ba"
      },
      "execution_count": null,
      "outputs": [
        {
          "output_type": "execute_result",
          "data": {
            "text/plain": [
              "     sepal_length  sepal_width  petal_length  petal_width         species\n",
              "0             5.1          3.5           1.4          0.2     Iris-setosa\n",
              "1             4.9          3.0           1.4          0.2     Iris-setosa\n",
              "2             4.7          3.2           1.3          0.2     Iris-setosa\n",
              "3             4.6          3.1           1.5          0.2     Iris-setosa\n",
              "4             5.0          3.6           1.4          0.2     Iris-setosa\n",
              "..            ...          ...           ...          ...             ...\n",
              "145           6.7          3.0           5.2          2.3  Iris-virginica\n",
              "146           6.3          2.5           5.0          1.9  Iris-virginica\n",
              "147           6.5          3.0           5.2          2.0  Iris-virginica\n",
              "148           6.2          3.4           5.4          2.3  Iris-virginica\n",
              "149           5.9          3.0           5.1          1.8  Iris-virginica\n",
              "\n",
              "[150 rows x 5 columns]"
            ],
            "text/html": [
              "\n",
              "  <div id=\"df-be240b47-7a55-4bca-8092-95f4f3ace265\">\n",
              "    <div class=\"colab-df-container\">\n",
              "      <div>\n",
              "<style scoped>\n",
              "    .dataframe tbody tr th:only-of-type {\n",
              "        vertical-align: middle;\n",
              "    }\n",
              "\n",
              "    .dataframe tbody tr th {\n",
              "        vertical-align: top;\n",
              "    }\n",
              "\n",
              "    .dataframe thead th {\n",
              "        text-align: right;\n",
              "    }\n",
              "</style>\n",
              "<table border=\"1\" class=\"dataframe\">\n",
              "  <thead>\n",
              "    <tr style=\"text-align: right;\">\n",
              "      <th></th>\n",
              "      <th>sepal_length</th>\n",
              "      <th>sepal_width</th>\n",
              "      <th>petal_length</th>\n",
              "      <th>petal_width</th>\n",
              "      <th>species</th>\n",
              "    </tr>\n",
              "  </thead>\n",
              "  <tbody>\n",
              "    <tr>\n",
              "      <th>0</th>\n",
              "      <td>5.1</td>\n",
              "      <td>3.5</td>\n",
              "      <td>1.4</td>\n",
              "      <td>0.2</td>\n",
              "      <td>Iris-setosa</td>\n",
              "    </tr>\n",
              "    <tr>\n",
              "      <th>1</th>\n",
              "      <td>4.9</td>\n",
              "      <td>3.0</td>\n",
              "      <td>1.4</td>\n",
              "      <td>0.2</td>\n",
              "      <td>Iris-setosa</td>\n",
              "    </tr>\n",
              "    <tr>\n",
              "      <th>2</th>\n",
              "      <td>4.7</td>\n",
              "      <td>3.2</td>\n",
              "      <td>1.3</td>\n",
              "      <td>0.2</td>\n",
              "      <td>Iris-setosa</td>\n",
              "    </tr>\n",
              "    <tr>\n",
              "      <th>3</th>\n",
              "      <td>4.6</td>\n",
              "      <td>3.1</td>\n",
              "      <td>1.5</td>\n",
              "      <td>0.2</td>\n",
              "      <td>Iris-setosa</td>\n",
              "    </tr>\n",
              "    <tr>\n",
              "      <th>4</th>\n",
              "      <td>5.0</td>\n",
              "      <td>3.6</td>\n",
              "      <td>1.4</td>\n",
              "      <td>0.2</td>\n",
              "      <td>Iris-setosa</td>\n",
              "    </tr>\n",
              "    <tr>\n",
              "      <th>...</th>\n",
              "      <td>...</td>\n",
              "      <td>...</td>\n",
              "      <td>...</td>\n",
              "      <td>...</td>\n",
              "      <td>...</td>\n",
              "    </tr>\n",
              "    <tr>\n",
              "      <th>145</th>\n",
              "      <td>6.7</td>\n",
              "      <td>3.0</td>\n",
              "      <td>5.2</td>\n",
              "      <td>2.3</td>\n",
              "      <td>Iris-virginica</td>\n",
              "    </tr>\n",
              "    <tr>\n",
              "      <th>146</th>\n",
              "      <td>6.3</td>\n",
              "      <td>2.5</td>\n",
              "      <td>5.0</td>\n",
              "      <td>1.9</td>\n",
              "      <td>Iris-virginica</td>\n",
              "    </tr>\n",
              "    <tr>\n",
              "      <th>147</th>\n",
              "      <td>6.5</td>\n",
              "      <td>3.0</td>\n",
              "      <td>5.2</td>\n",
              "      <td>2.0</td>\n",
              "      <td>Iris-virginica</td>\n",
              "    </tr>\n",
              "    <tr>\n",
              "      <th>148</th>\n",
              "      <td>6.2</td>\n",
              "      <td>3.4</td>\n",
              "      <td>5.4</td>\n",
              "      <td>2.3</td>\n",
              "      <td>Iris-virginica</td>\n",
              "    </tr>\n",
              "    <tr>\n",
              "      <th>149</th>\n",
              "      <td>5.9</td>\n",
              "      <td>3.0</td>\n",
              "      <td>5.1</td>\n",
              "      <td>1.8</td>\n",
              "      <td>Iris-virginica</td>\n",
              "    </tr>\n",
              "  </tbody>\n",
              "</table>\n",
              "<p>150 rows × 5 columns</p>\n",
              "</div>\n",
              "      <button class=\"colab-df-convert\" onclick=\"convertToInteractive('df-be240b47-7a55-4bca-8092-95f4f3ace265')\"\n",
              "              title=\"Convert this dataframe to an interactive table.\"\n",
              "              style=\"display:none;\">\n",
              "        \n",
              "  <svg xmlns=\"http://www.w3.org/2000/svg\" height=\"24px\"viewBox=\"0 0 24 24\"\n",
              "       width=\"24px\">\n",
              "    <path d=\"M0 0h24v24H0V0z\" fill=\"none\"/>\n",
              "    <path d=\"M18.56 5.44l.94 2.06.94-2.06 2.06-.94-2.06-.94-.94-2.06-.94 2.06-2.06.94zm-11 1L8.5 8.5l.94-2.06 2.06-.94-2.06-.94L8.5 2.5l-.94 2.06-2.06.94zm10 10l.94 2.06.94-2.06 2.06-.94-2.06-.94-.94-2.06-.94 2.06-2.06.94z\"/><path d=\"M17.41 7.96l-1.37-1.37c-.4-.4-.92-.59-1.43-.59-.52 0-1.04.2-1.43.59L10.3 9.45l-7.72 7.72c-.78.78-.78 2.05 0 2.83L4 21.41c.39.39.9.59 1.41.59.51 0 1.02-.2 1.41-.59l7.78-7.78 2.81-2.81c.8-.78.8-2.07 0-2.86zM5.41 20L4 18.59l7.72-7.72 1.47 1.35L5.41 20z\"/>\n",
              "  </svg>\n",
              "      </button>\n",
              "      \n",
              "  <style>\n",
              "    .colab-df-container {\n",
              "      display:flex;\n",
              "      flex-wrap:wrap;\n",
              "      gap: 12px;\n",
              "    }\n",
              "\n",
              "    .colab-df-convert {\n",
              "      background-color: #E8F0FE;\n",
              "      border: none;\n",
              "      border-radius: 50%;\n",
              "      cursor: pointer;\n",
              "      display: none;\n",
              "      fill: #1967D2;\n",
              "      height: 32px;\n",
              "      padding: 0 0 0 0;\n",
              "      width: 32px;\n",
              "    }\n",
              "\n",
              "    .colab-df-convert:hover {\n",
              "      background-color: #E2EBFA;\n",
              "      box-shadow: 0px 1px 2px rgba(60, 64, 67, 0.3), 0px 1px 3px 1px rgba(60, 64, 67, 0.15);\n",
              "      fill: #174EA6;\n",
              "    }\n",
              "\n",
              "    [theme=dark] .colab-df-convert {\n",
              "      background-color: #3B4455;\n",
              "      fill: #D2E3FC;\n",
              "    }\n",
              "\n",
              "    [theme=dark] .colab-df-convert:hover {\n",
              "      background-color: #434B5C;\n",
              "      box-shadow: 0px 1px 3px 1px rgba(0, 0, 0, 0.15);\n",
              "      filter: drop-shadow(0px 1px 2px rgba(0, 0, 0, 0.3));\n",
              "      fill: #FFFFFF;\n",
              "    }\n",
              "  </style>\n",
              "\n",
              "      <script>\n",
              "        const buttonEl =\n",
              "          document.querySelector('#df-be240b47-7a55-4bca-8092-95f4f3ace265 button.colab-df-convert');\n",
              "        buttonEl.style.display =\n",
              "          google.colab.kernel.accessAllowed ? 'block' : 'none';\n",
              "\n",
              "        async function convertToInteractive(key) {\n",
              "          const element = document.querySelector('#df-be240b47-7a55-4bca-8092-95f4f3ace265');\n",
              "          const dataTable =\n",
              "            await google.colab.kernel.invokeFunction('convertToInteractive',\n",
              "                                                     [key], {});\n",
              "          if (!dataTable) return;\n",
              "\n",
              "          const docLinkHtml = 'Like what you see? Visit the ' +\n",
              "            '<a target=\"_blank\" href=https://colab.research.google.com/notebooks/data_table.ipynb>data table notebook</a>'\n",
              "            + ' to learn more about interactive tables.';\n",
              "          element.innerHTML = '';\n",
              "          dataTable['output_type'] = 'display_data';\n",
              "          await google.colab.output.renderOutput(dataTable, element);\n",
              "          const docLink = document.createElement('div');\n",
              "          docLink.innerHTML = docLinkHtml;\n",
              "          element.appendChild(docLink);\n",
              "        }\n",
              "      </script>\n",
              "    </div>\n",
              "  </div>\n",
              "  "
            ]
          },
          "metadata": {},
          "execution_count": 412
        }
      ]
    },
    {
      "cell_type": "code",
      "source": [
        "X = df[target_column]"
      ],
      "metadata": {
        "id": "G32hxWK1yoKO"
      },
      "execution_count": null,
      "outputs": []
    },
    {
      "cell_type": "code",
      "source": [
        "from sklearn import preprocessing\n",
        "#creating labelEncoder\n",
        "le = preprocessing.LabelEncoder()\n",
        "# Converting string labels into numbers.\n",
        "y = le.fit_transform(df['species'])"
      ],
      "metadata": {
        "id": "-NNq4_6ZiLWy"
      },
      "execution_count": null,
      "outputs": []
    },
    {
      "cell_type": "code",
      "source": [],
      "metadata": {
        "colab": {
          "base_uri": "https://localhost:8080/"
        },
        "id": "jGWGOjYVsSRl",
        "outputId": "76a68129-ac18-471a-a810-16c44e10e804"
      },
      "execution_count": null,
      "outputs": [
        {
          "output_type": "execute_result",
          "data": {
            "text/plain": [
              "0         Iris-setosa\n",
              "1         Iris-setosa\n",
              "2         Iris-setosa\n",
              "3         Iris-setosa\n",
              "4         Iris-setosa\n",
              "            ...      \n",
              "145    Iris-virginica\n",
              "146    Iris-virginica\n",
              "147    Iris-virginica\n",
              "148    Iris-virginica\n",
              "149    Iris-virginica\n",
              "Name: species, Length: 150, dtype: object"
            ]
          },
          "metadata": {},
          "execution_count": 415
        }
      ]
    },
    {
      "cell_type": "code",
      "source": [
        "y"
      ],
      "metadata": {
        "colab": {
          "base_uri": "https://localhost:8080/"
        },
        "id": "FIB2rQFbiRWP",
        "outputId": "55f4b888-3b8c-43a1-aef1-4b04e64657dc"
      },
      "execution_count": null,
      "outputs": [
        {
          "output_type": "execute_result",
          "data": {
            "text/plain": [
              "array([0, 0, 0, 0, 0, 0, 0, 0, 0, 0, 0, 0, 0, 0, 0, 0, 0, 0, 0, 0, 0, 0,\n",
              "       0, 0, 0, 0, 0, 0, 0, 0, 0, 0, 0, 0, 0, 0, 0, 0, 0, 0, 0, 0, 0, 0,\n",
              "       0, 0, 0, 0, 0, 0, 1, 1, 1, 1, 1, 1, 1, 1, 1, 1, 1, 1, 1, 1, 1, 1,\n",
              "       1, 1, 1, 1, 1, 1, 1, 1, 1, 1, 1, 1, 1, 1, 1, 1, 1, 1, 1, 1, 1, 1,\n",
              "       1, 1, 1, 1, 1, 1, 1, 1, 1, 1, 1, 1, 2, 2, 2, 2, 2, 2, 2, 2, 2, 2,\n",
              "       2, 2, 2, 2, 2, 2, 2, 2, 2, 2, 2, 2, 2, 2, 2, 2, 2, 2, 2, 2, 2, 2,\n",
              "       2, 2, 2, 2, 2, 2, 2, 2, 2, 2, 2, 2, 2, 2, 2, 2, 2, 2])"
            ]
          },
          "metadata": {},
          "execution_count": 416
        }
      ]
    },
    {
      "cell_type": "code",
      "source": [
        "# y = df['species']"
      ],
      "metadata": {
        "id": "lSExXD8GyxaY"
      },
      "execution_count": null,
      "outputs": []
    },
    {
      "cell_type": "code",
      "source": [],
      "metadata": {
        "id": "MXhjoy_vcWLp"
      },
      "execution_count": null,
      "outputs": []
    },
    {
      "cell_type": "code",
      "source": [],
      "metadata": {
        "colab": {
          "base_uri": "https://localhost:8080/"
        },
        "id": "azS9OqEacgFr",
        "outputId": "173a9b70-246b-4b42-8cc1-bec06253dbe0"
      },
      "execution_count": null,
      "outputs": [
        {
          "output_type": "execute_result",
          "data": {
            "text/plain": [
              "array([['Iris-setosa', 'Iris-setosa', 'Iris-setosa', 'Iris-setosa',\n",
              "        'Iris-setosa', 'Iris-setosa', 'Iris-setosa', 'Iris-setosa',\n",
              "        'Iris-setosa', 'Iris-setosa', 'Iris-setosa', 'Iris-setosa',\n",
              "        'Iris-setosa', 'Iris-setosa', 'Iris-setosa', 'Iris-setosa',\n",
              "        'Iris-setosa', 'Iris-setosa', 'Iris-setosa', 'Iris-setosa',\n",
              "        'Iris-setosa', 'Iris-setosa', 'Iris-setosa', 'Iris-setosa',\n",
              "        'Iris-setosa', 'Iris-setosa', 'Iris-setosa', 'Iris-setosa',\n",
              "        'Iris-setosa', 'Iris-setosa', 'Iris-setosa', 'Iris-setosa',\n",
              "        'Iris-setosa', 'Iris-setosa', 'Iris-setosa', 'Iris-setosa',\n",
              "        'Iris-setosa', 'Iris-setosa', 'Iris-setosa', 'Iris-setosa',\n",
              "        'Iris-setosa', 'Iris-setosa', 'Iris-setosa', 'Iris-setosa',\n",
              "        'Iris-setosa', 'Iris-setosa', 'Iris-setosa', 'Iris-setosa',\n",
              "        'Iris-setosa', 'Iris-setosa', 'Iris-versicolor',\n",
              "        'Iris-versicolor', 'Iris-versicolor', 'Iris-versicolor',\n",
              "        'Iris-versicolor', 'Iris-versicolor', 'Iris-versicolor',\n",
              "        'Iris-versicolor', 'Iris-versicolor', 'Iris-versicolor',\n",
              "        'Iris-versicolor', 'Iris-versicolor', 'Iris-versicolor',\n",
              "        'Iris-versicolor', 'Iris-versicolor', 'Iris-versicolor',\n",
              "        'Iris-versicolor', 'Iris-versicolor', 'Iris-versicolor',\n",
              "        'Iris-versicolor', 'Iris-versicolor', 'Iris-versicolor',\n",
              "        'Iris-versicolor', 'Iris-versicolor', 'Iris-versicolor',\n",
              "        'Iris-versicolor', 'Iris-versicolor', 'Iris-versicolor',\n",
              "        'Iris-versicolor', 'Iris-versicolor', 'Iris-versicolor',\n",
              "        'Iris-versicolor', 'Iris-versicolor', 'Iris-versicolor',\n",
              "        'Iris-versicolor', 'Iris-versicolor', 'Iris-versicolor',\n",
              "        'Iris-versicolor', 'Iris-versicolor', 'Iris-versicolor',\n",
              "        'Iris-versicolor', 'Iris-versicolor', 'Iris-versicolor',\n",
              "        'Iris-versicolor', 'Iris-versicolor', 'Iris-versicolor',\n",
              "        'Iris-versicolor', 'Iris-versicolor', 'Iris-versicolor',\n",
              "        'Iris-versicolor', 'Iris-virginica', 'Iris-virginica',\n",
              "        'Iris-virginica', 'Iris-virginica', 'Iris-virginica',\n",
              "        'Iris-virginica', 'Iris-virginica', 'Iris-virginica',\n",
              "        'Iris-virginica', 'Iris-virginica', 'Iris-virginica',\n",
              "        'Iris-virginica', 'Iris-virginica', 'Iris-virginica',\n",
              "        'Iris-virginica', 'Iris-virginica', 'Iris-virginica',\n",
              "        'Iris-virginica', 'Iris-virginica', 'Iris-virginica',\n",
              "        'Iris-virginica', 'Iris-virginica', 'Iris-virginica',\n",
              "        'Iris-virginica', 'Iris-virginica', 'Iris-virginica',\n",
              "        'Iris-virginica', 'Iris-virginica', 'Iris-virginica',\n",
              "        'Iris-virginica', 'Iris-virginica', 'Iris-virginica',\n",
              "        'Iris-virginica', 'Iris-virginica', 'Iris-virginica',\n",
              "        'Iris-virginica', 'Iris-virginica', 'Iris-virginica',\n",
              "        'Iris-virginica', 'Iris-virginica', 'Iris-virginica',\n",
              "        'Iris-virginica', 'Iris-virginica', 'Iris-virginica',\n",
              "        'Iris-virginica', 'Iris-virginica', 'Iris-virginica',\n",
              "        'Iris-virginica', 'Iris-virginica', 'Iris-virginica']],\n",
              "      dtype=object)"
            ]
          },
          "metadata": {},
          "execution_count": 313
        }
      ]
    },
    {
      "cell_type": "code",
      "source": [
        "X_train, X_test, y_train, y_test = train_test_split(X, y, test_size = 0.3,random_state = 42)\n"
      ],
      "metadata": {
        "id": "IfuReBvXyzB8"
      },
      "execution_count": null,
      "outputs": []
    },
    {
      "cell_type": "code",
      "source": [
        "y_train"
      ],
      "metadata": {
        "colab": {
          "base_uri": "https://localhost:8080/"
        },
        "id": "iUXKR_sEgTOG",
        "outputId": "a0325102-85e8-43ce-c05a-e8bda13c2bb3"
      },
      "execution_count": null,
      "outputs": [
        {
          "output_type": "execute_result",
          "data": {
            "text/plain": [
              "array([1, 2, 2, 1, 2, 1, 2, 1, 0, 2, 1, 0, 0, 0, 1, 2, 0, 0, 0, 1, 0, 1,\n",
              "       2, 0, 1, 2, 0, 2, 2, 1, 1, 2, 1, 0, 1, 2, 0, 0, 1, 1, 0, 2, 0, 0,\n",
              "       1, 1, 2, 1, 2, 2, 1, 0, 0, 2, 2, 0, 0, 0, 1, 2, 0, 2, 2, 0, 1, 1,\n",
              "       2, 1, 2, 0, 2, 1, 2, 1, 1, 1, 0, 1, 1, 0, 1, 2, 2, 0, 1, 2, 2, 0,\n",
              "       2, 0, 1, 2, 2, 1, 2, 1, 1, 2, 2, 0, 1, 2, 0, 1, 2])"
            ]
          },
          "metadata": {},
          "execution_count": 418
        }
      ]
    },
    {
      "cell_type": "code",
      "source": [
        "X_train= X_train.values.reshape(-1, 1)\n",
        "X_test = X_test.values.reshape(-1, 1)"
      ],
      "metadata": {
        "id": "u45Fo4DjhNyf"
      },
      "execution_count": null,
      "outputs": []
    },
    {
      "cell_type": "code",
      "source": [
        "y_train = y_train.reshape(-1,1)\n",
        "y_test = y_test.reshape(-1,1)"
      ],
      "metadata": {
        "id": "QkYhg3MIhoiN"
      },
      "execution_count": null,
      "outputs": []
    },
    {
      "cell_type": "code",
      "source": [],
      "metadata": {
        "id": "50ppFIl8hsay"
      },
      "execution_count": null,
      "outputs": []
    },
    {
      "cell_type": "code",
      "source": [
        "model.fit(X_train,y_train)"
      ],
      "metadata": {
        "colab": {
          "base_uri": "https://localhost:8080/",
          "height": 184
        },
        "id": "2OQiBmdWy4Az",
        "outputId": "6143b7f6-23e1-4b37-f885-b0000686a469"
      },
      "execution_count": null,
      "outputs": [
        {
          "output_type": "stream",
          "name": "stderr",
          "text": [
            "<ipython-input-427-b7a8c64777c1>:1: DataConversionWarning: A column-vector y was passed when a 1d array was expected. Please change the shape of y to (n_samples,), for example using ravel().\n",
            "  model.fit(X_train,y_train)\n",
            "/usr/local/lib/python3.10/dist-packages/sklearn/ensemble/_forest.py:424: FutureWarning: `max_features='auto'` has been deprecated in 1.1 and will be removed in 1.3. To keep the past behaviour, explicitly set `max_features='sqrt'` or remove this parameter as it is also the default value for RandomForestClassifiers and ExtraTreesClassifiers.\n",
            "  warn(\n"
          ]
        },
        {
          "output_type": "execute_result",
          "data": {
            "text/plain": [
              "RandomForestClassifier(max_depth=24, max_features='auto', min_samples_leaf=5,\n",
              "                       min_samples_split=5, n_estimators=16, n_jobs=1)"
            ],
            "text/html": [
              "<style>#sk-container-id-40 {color: black;background-color: white;}#sk-container-id-40 pre{padding: 0;}#sk-container-id-40 div.sk-toggleable {background-color: white;}#sk-container-id-40 label.sk-toggleable__label {cursor: pointer;display: block;width: 100%;margin-bottom: 0;padding: 0.3em;box-sizing: border-box;text-align: center;}#sk-container-id-40 label.sk-toggleable__label-arrow:before {content: \"▸\";float: left;margin-right: 0.25em;color: #696969;}#sk-container-id-40 label.sk-toggleable__label-arrow:hover:before {color: black;}#sk-container-id-40 div.sk-estimator:hover label.sk-toggleable__label-arrow:before {color: black;}#sk-container-id-40 div.sk-toggleable__content {max-height: 0;max-width: 0;overflow: hidden;text-align: left;background-color: #f0f8ff;}#sk-container-id-40 div.sk-toggleable__content pre {margin: 0.2em;color: black;border-radius: 0.25em;background-color: #f0f8ff;}#sk-container-id-40 input.sk-toggleable__control:checked~div.sk-toggleable__content {max-height: 200px;max-width: 100%;overflow: auto;}#sk-container-id-40 input.sk-toggleable__control:checked~label.sk-toggleable__label-arrow:before {content: \"▾\";}#sk-container-id-40 div.sk-estimator input.sk-toggleable__control:checked~label.sk-toggleable__label {background-color: #d4ebff;}#sk-container-id-40 div.sk-label input.sk-toggleable__control:checked~label.sk-toggleable__label {background-color: #d4ebff;}#sk-container-id-40 input.sk-hidden--visually {border: 0;clip: rect(1px 1px 1px 1px);clip: rect(1px, 1px, 1px, 1px);height: 1px;margin: -1px;overflow: hidden;padding: 0;position: absolute;width: 1px;}#sk-container-id-40 div.sk-estimator {font-family: monospace;background-color: #f0f8ff;border: 1px dotted black;border-radius: 0.25em;box-sizing: border-box;margin-bottom: 0.5em;}#sk-container-id-40 div.sk-estimator:hover {background-color: #d4ebff;}#sk-container-id-40 div.sk-parallel-item::after {content: \"\";width: 100%;border-bottom: 1px solid gray;flex-grow: 1;}#sk-container-id-40 div.sk-label:hover label.sk-toggleable__label {background-color: #d4ebff;}#sk-container-id-40 div.sk-serial::before {content: \"\";position: absolute;border-left: 1px solid gray;box-sizing: border-box;top: 0;bottom: 0;left: 50%;z-index: 0;}#sk-container-id-40 div.sk-serial {display: flex;flex-direction: column;align-items: center;background-color: white;padding-right: 0.2em;padding-left: 0.2em;position: relative;}#sk-container-id-40 div.sk-item {position: relative;z-index: 1;}#sk-container-id-40 div.sk-parallel {display: flex;align-items: stretch;justify-content: center;background-color: white;position: relative;}#sk-container-id-40 div.sk-item::before, #sk-container-id-40 div.sk-parallel-item::before {content: \"\";position: absolute;border-left: 1px solid gray;box-sizing: border-box;top: 0;bottom: 0;left: 50%;z-index: -1;}#sk-container-id-40 div.sk-parallel-item {display: flex;flex-direction: column;z-index: 1;position: relative;background-color: white;}#sk-container-id-40 div.sk-parallel-item:first-child::after {align-self: flex-end;width: 50%;}#sk-container-id-40 div.sk-parallel-item:last-child::after {align-self: flex-start;width: 50%;}#sk-container-id-40 div.sk-parallel-item:only-child::after {width: 0;}#sk-container-id-40 div.sk-dashed-wrapped {border: 1px dashed gray;margin: 0 0.4em 0.5em 0.4em;box-sizing: border-box;padding-bottom: 0.4em;background-color: white;}#sk-container-id-40 div.sk-label label {font-family: monospace;font-weight: bold;display: inline-block;line-height: 1.2em;}#sk-container-id-40 div.sk-label-container {text-align: center;}#sk-container-id-40 div.sk-container {/* jupyter's `normalize.less` sets `[hidden] { display: none; }` but bootstrap.min.css set `[hidden] { display: none !important; }` so we also need the `!important` here to be able to override the default hidden behavior on the sphinx rendered scikit-learn.org. See: https://github.com/scikit-learn/scikit-learn/issues/21755 */display: inline-block !important;position: relative;}#sk-container-id-40 div.sk-text-repr-fallback {display: none;}</style><div id=\"sk-container-id-40\" class=\"sk-top-container\"><div class=\"sk-text-repr-fallback\"><pre>RandomForestClassifier(max_depth=24, max_features=&#x27;auto&#x27;, min_samples_leaf=5,\n",
              "                       min_samples_split=5, n_estimators=16, n_jobs=1)</pre><b>In a Jupyter environment, please rerun this cell to show the HTML representation or trust the notebook. <br />On GitHub, the HTML representation is unable to render, please try loading this page with nbviewer.org.</b></div><div class=\"sk-container\" hidden><div class=\"sk-item\"><div class=\"sk-estimator sk-toggleable\"><input class=\"sk-toggleable__control sk-hidden--visually\" id=\"sk-estimator-id-96\" type=\"checkbox\" checked><label for=\"sk-estimator-id-96\" class=\"sk-toggleable__label sk-toggleable__label-arrow\">RandomForestClassifier</label><div class=\"sk-toggleable__content\"><pre>RandomForestClassifier(max_depth=24, max_features=&#x27;auto&#x27;, min_samples_leaf=5,\n",
              "                       min_samples_split=5, n_estimators=16, n_jobs=1)</pre></div></div></div></div></div>"
            ]
          },
          "metadata": {},
          "execution_count": 427
        }
      ]
    },
    {
      "cell_type": "code",
      "source": [
        "y_pred = model.predict(X_test)"
      ],
      "metadata": {
        "id": "eyxRtgJJznPD"
      },
      "execution_count": null,
      "outputs": []
    },
    {
      "cell_type": "code",
      "source": [
        "#Without Tuning\n",
        "from sklearn.metrics import mean_squared_error\n",
        "mse = mean_squared_error(y_test, y_pred)\n",
        "rmse = mse**.5\n",
        "print(mse)\n",
        "print(rmse)"
      ],
      "metadata": {
        "colab": {
          "base_uri": "https://localhost:8080/"
        },
        "id": "iuab2phhie4x",
        "outputId": "55d0b46a-e313-49b2-91f2-f9560f8be6a1"
      },
      "execution_count": null,
      "outputs": [
        {
          "output_type": "stream",
          "name": "stdout",
          "text": [
            "0.0\n",
            "0.0\n"
          ]
        }
      ]
    },
    {
      "cell_type": "code",
      "source": [
        "clf.fit(X_train, y_train)"
      ],
      "metadata": {
        "colab": {
          "base_uri": "https://localhost:8080/",
          "height": 711
        },
        "id": "m_NwUAGvi57d",
        "outputId": "9f3f5c15-5f61-403e-8be0-df47e12e400e"
      },
      "execution_count": null,
      "outputs": [
        {
          "output_type": "error",
          "ename": "ValueError",
          "evalue": "ignored",
          "traceback": [
            "\u001b[0;31m---------------------------------------------------------------------------\u001b[0m",
            "\u001b[0;31mValueError\u001b[0m                                Traceback (most recent call last)",
            "\u001b[0;32m<ipython-input-430-4f66baab8f93>\u001b[0m in \u001b[0;36m<cell line: 1>\u001b[0;34m()\u001b[0m\n\u001b[0;32m----> 1\u001b[0;31m \u001b[0mclf\u001b[0m\u001b[0;34m.\u001b[0m\u001b[0mfit\u001b[0m\u001b[0;34m(\u001b[0m\u001b[0mX_train\u001b[0m\u001b[0;34m,\u001b[0m \u001b[0my_train\u001b[0m\u001b[0;34m)\u001b[0m\u001b[0;34m\u001b[0m\u001b[0;34m\u001b[0m\u001b[0m\n\u001b[0m",
            "\u001b[0;32m/usr/local/lib/python3.10/dist-packages/sklearn/model_selection/_search.py\u001b[0m in \u001b[0;36mfit\u001b[0;34m(self, X, y, groups, **fit_params)\u001b[0m\n\u001b[1;32m    872\u001b[0m                 \u001b[0;32mreturn\u001b[0m \u001b[0mresults\u001b[0m\u001b[0;34m\u001b[0m\u001b[0;34m\u001b[0m\u001b[0m\n\u001b[1;32m    873\u001b[0m \u001b[0;34m\u001b[0m\u001b[0m\n\u001b[0;32m--> 874\u001b[0;31m             \u001b[0mself\u001b[0m\u001b[0;34m.\u001b[0m\u001b[0m_run_search\u001b[0m\u001b[0;34m(\u001b[0m\u001b[0mevaluate_candidates\u001b[0m\u001b[0;34m)\u001b[0m\u001b[0;34m\u001b[0m\u001b[0;34m\u001b[0m\u001b[0m\n\u001b[0m\u001b[1;32m    875\u001b[0m \u001b[0;34m\u001b[0m\u001b[0m\n\u001b[1;32m    876\u001b[0m             \u001b[0;31m# multimetric is determined here because in the case of a callable\u001b[0m\u001b[0;34m\u001b[0m\u001b[0;34m\u001b[0m\u001b[0m\n",
            "\u001b[0;32m/usr/local/lib/python3.10/dist-packages/sklearn/model_selection/_search.py\u001b[0m in \u001b[0;36m_run_search\u001b[0;34m(self, evaluate_candidates)\u001b[0m\n\u001b[1;32m   1386\u001b[0m     \u001b[0;32mdef\u001b[0m \u001b[0m_run_search\u001b[0m\u001b[0;34m(\u001b[0m\u001b[0mself\u001b[0m\u001b[0;34m,\u001b[0m \u001b[0mevaluate_candidates\u001b[0m\u001b[0;34m)\u001b[0m\u001b[0;34m:\u001b[0m\u001b[0;34m\u001b[0m\u001b[0;34m\u001b[0m\u001b[0m\n\u001b[1;32m   1387\u001b[0m         \u001b[0;34m\"\"\"Search all candidates in param_grid\"\"\"\u001b[0m\u001b[0;34m\u001b[0m\u001b[0;34m\u001b[0m\u001b[0m\n\u001b[0;32m-> 1388\u001b[0;31m         \u001b[0mevaluate_candidates\u001b[0m\u001b[0;34m(\u001b[0m\u001b[0mParameterGrid\u001b[0m\u001b[0;34m(\u001b[0m\u001b[0mself\u001b[0m\u001b[0;34m.\u001b[0m\u001b[0mparam_grid\u001b[0m\u001b[0;34m)\u001b[0m\u001b[0;34m)\u001b[0m\u001b[0;34m\u001b[0m\u001b[0;34m\u001b[0m\u001b[0m\n\u001b[0m\u001b[1;32m   1389\u001b[0m \u001b[0;34m\u001b[0m\u001b[0m\n\u001b[1;32m   1390\u001b[0m \u001b[0;34m\u001b[0m\u001b[0m\n",
            "\u001b[0;32m/usr/local/lib/python3.10/dist-packages/sklearn/model_selection/_search.py\u001b[0m in \u001b[0;36mevaluate_candidates\u001b[0;34m(candidate_params, cv, more_results)\u001b[0m\n\u001b[1;32m    849\u001b[0m                     )\n\u001b[1;32m    850\u001b[0m \u001b[0;34m\u001b[0m\u001b[0m\n\u001b[0;32m--> 851\u001b[0;31m                 \u001b[0m_warn_or_raise_about_fit_failures\u001b[0m\u001b[0;34m(\u001b[0m\u001b[0mout\u001b[0m\u001b[0;34m,\u001b[0m \u001b[0mself\u001b[0m\u001b[0;34m.\u001b[0m\u001b[0merror_score\u001b[0m\u001b[0;34m)\u001b[0m\u001b[0;34m\u001b[0m\u001b[0;34m\u001b[0m\u001b[0m\n\u001b[0m\u001b[1;32m    852\u001b[0m \u001b[0;34m\u001b[0m\u001b[0m\n\u001b[1;32m    853\u001b[0m                 \u001b[0;31m# For callable self.scoring, the return type is only know after\u001b[0m\u001b[0;34m\u001b[0m\u001b[0;34m\u001b[0m\u001b[0m\n",
            "\u001b[0;32m/usr/local/lib/python3.10/dist-packages/sklearn/model_selection/_validation.py\u001b[0m in \u001b[0;36m_warn_or_raise_about_fit_failures\u001b[0;34m(results, error_score)\u001b[0m\n\u001b[1;32m    365\u001b[0m                 \u001b[0;34mf\"Below are more details about the failures:\\n{fit_errors_summary}\"\u001b[0m\u001b[0;34m\u001b[0m\u001b[0;34m\u001b[0m\u001b[0m\n\u001b[1;32m    366\u001b[0m             )\n\u001b[0;32m--> 367\u001b[0;31m             \u001b[0;32mraise\u001b[0m \u001b[0mValueError\u001b[0m\u001b[0;34m(\u001b[0m\u001b[0mall_fits_failed_message\u001b[0m\u001b[0;34m)\u001b[0m\u001b[0;34m\u001b[0m\u001b[0;34m\u001b[0m\u001b[0m\n\u001b[0m\u001b[1;32m    368\u001b[0m \u001b[0;34m\u001b[0m\u001b[0m\n\u001b[1;32m    369\u001b[0m         \u001b[0;32melse\u001b[0m\u001b[0;34m:\u001b[0m\u001b[0;34m\u001b[0m\u001b[0;34m\u001b[0m\u001b[0m\n",
            "\u001b[0;31mValueError\u001b[0m: \nAll the 5 fits failed.\nIt is very likely that your model is misconfigured.\nYou can try to debug the error by setting error_score='raise'.\n\nBelow are more details about the failures:\n--------------------------------------------------------------------------------\n5 fits failed with the following error:\nTraceback (most recent call last):\n  File \"/usr/local/lib/python3.10/dist-packages/sklearn/model_selection/_validation.py\", line 686, in _fit_and_score\n    estimator.fit(X_train, y_train, **fit_params)\n  File \"/usr/local/lib/python3.10/dist-packages/sklearn/ensemble/_forest.py\", line 340, in fit\n    self._validate_params()\n  File \"/usr/local/lib/python3.10/dist-packages/sklearn/base.py\", line 600, in _validate_params\n    validate_parameter_constraints(\n  File \"/usr/local/lib/python3.10/dist-packages/sklearn/utils/_param_validation.py\", line 97, in validate_parameter_constraints\n    raise InvalidParameterError(\nsklearn.utils._param_validation.InvalidParameterError: The 'max_features' parameter of RandomForestClassifier must be an int in the range [1, inf), a float in the range (0.0, 1.0], a str among {'auto' (deprecated), 'log2', 'sqrt'} or None. Got 'Default' instead.\n"
          ]
        }
      ]
    },
    {
      "cell_type": "code",
      "source": [
        "print(clf.best_params_)"
      ],
      "metadata": {
        "colab": {
          "base_uri": "https://localhost:8080/"
        },
        "id": "TGMDfq7LkDf9",
        "outputId": "6450a239-efc3-4dec-87a1-fb7700e99fb3"
      },
      "execution_count": null,
      "outputs": [
        {
          "output_type": "stream",
          "name": "stdout",
          "text": [
            "{'random_state': 1}\n"
          ]
        }
      ]
    },
    {
      "cell_type": "code",
      "source": [
        "print(clf.best_score_)"
      ],
      "metadata": {
        "colab": {
          "base_uri": "https://localhost:8080/"
        },
        "id": "Fvuz3ERJp6J5",
        "outputId": "4144e501-4f0a-4c3d-fbdd-627191bc0aec"
      },
      "execution_count": null,
      "outputs": [
        {
          "output_type": "stream",
          "name": "stdout",
          "text": [
            "nan\n"
          ]
        }
      ]
    },
    {
      "cell_type": "code",
      "source": [],
      "metadata": {
        "id": "O_WVUL9ZlslL"
      },
      "execution_count": null,
      "outputs": []
    },
    {
      "cell_type": "code",
      "source": [
        "model.fit(X_train,y_train)"
      ],
      "metadata": {
        "colab": {
          "base_uri": "https://localhost:8080/",
          "height": 184
        },
        "id": "KNO0XBvcl3p7",
        "outputId": "d1c3943d-4861-45ea-8e24-a994ebcc7d11"
      },
      "execution_count": null,
      "outputs": [
        {
          "output_type": "stream",
          "name": "stderr",
          "text": [
            "<ipython-input-396-b7a8c64777c1>:1: DataConversionWarning: A column-vector y was passed when a 1d array was expected. Please change the shape of y to (n_samples,), for example using ravel().\n",
            "  model.fit(X_train,y_train)\n",
            "/usr/local/lib/python3.10/dist-packages/sklearn/ensemble/_forest.py:413: FutureWarning: `max_features='auto'` has been deprecated in 1.1 and will be removed in 1.3. To keep the past behaviour, explicitly set `max_features=1.0` or remove this parameter as it is also the default value for RandomForestRegressors and ExtraTreesRegressors.\n",
            "  warn(\n"
          ]
        },
        {
          "output_type": "execute_result",
          "data": {
            "text/plain": [
              "RandomForestRegressor(max_features='auto', min_samples_leaf=5, n_estimators=10,\n",
              "                      random_state=1)"
            ],
            "text/html": [
              "<style>#sk-container-id-35 {color: black;background-color: white;}#sk-container-id-35 pre{padding: 0;}#sk-container-id-35 div.sk-toggleable {background-color: white;}#sk-container-id-35 label.sk-toggleable__label {cursor: pointer;display: block;width: 100%;margin-bottom: 0;padding: 0.3em;box-sizing: border-box;text-align: center;}#sk-container-id-35 label.sk-toggleable__label-arrow:before {content: \"▸\";float: left;margin-right: 0.25em;color: #696969;}#sk-container-id-35 label.sk-toggleable__label-arrow:hover:before {color: black;}#sk-container-id-35 div.sk-estimator:hover label.sk-toggleable__label-arrow:before {color: black;}#sk-container-id-35 div.sk-toggleable__content {max-height: 0;max-width: 0;overflow: hidden;text-align: left;background-color: #f0f8ff;}#sk-container-id-35 div.sk-toggleable__content pre {margin: 0.2em;color: black;border-radius: 0.25em;background-color: #f0f8ff;}#sk-container-id-35 input.sk-toggleable__control:checked~div.sk-toggleable__content {max-height: 200px;max-width: 100%;overflow: auto;}#sk-container-id-35 input.sk-toggleable__control:checked~label.sk-toggleable__label-arrow:before {content: \"▾\";}#sk-container-id-35 div.sk-estimator input.sk-toggleable__control:checked~label.sk-toggleable__label {background-color: #d4ebff;}#sk-container-id-35 div.sk-label input.sk-toggleable__control:checked~label.sk-toggleable__label {background-color: #d4ebff;}#sk-container-id-35 input.sk-hidden--visually {border: 0;clip: rect(1px 1px 1px 1px);clip: rect(1px, 1px, 1px, 1px);height: 1px;margin: -1px;overflow: hidden;padding: 0;position: absolute;width: 1px;}#sk-container-id-35 div.sk-estimator {font-family: monospace;background-color: #f0f8ff;border: 1px dotted black;border-radius: 0.25em;box-sizing: border-box;margin-bottom: 0.5em;}#sk-container-id-35 div.sk-estimator:hover {background-color: #d4ebff;}#sk-container-id-35 div.sk-parallel-item::after {content: \"\";width: 100%;border-bottom: 1px solid gray;flex-grow: 1;}#sk-container-id-35 div.sk-label:hover label.sk-toggleable__label {background-color: #d4ebff;}#sk-container-id-35 div.sk-serial::before {content: \"\";position: absolute;border-left: 1px solid gray;box-sizing: border-box;top: 0;bottom: 0;left: 50%;z-index: 0;}#sk-container-id-35 div.sk-serial {display: flex;flex-direction: column;align-items: center;background-color: white;padding-right: 0.2em;padding-left: 0.2em;position: relative;}#sk-container-id-35 div.sk-item {position: relative;z-index: 1;}#sk-container-id-35 div.sk-parallel {display: flex;align-items: stretch;justify-content: center;background-color: white;position: relative;}#sk-container-id-35 div.sk-item::before, #sk-container-id-35 div.sk-parallel-item::before {content: \"\";position: absolute;border-left: 1px solid gray;box-sizing: border-box;top: 0;bottom: 0;left: 50%;z-index: -1;}#sk-container-id-35 div.sk-parallel-item {display: flex;flex-direction: column;z-index: 1;position: relative;background-color: white;}#sk-container-id-35 div.sk-parallel-item:first-child::after {align-self: flex-end;width: 50%;}#sk-container-id-35 div.sk-parallel-item:last-child::after {align-self: flex-start;width: 50%;}#sk-container-id-35 div.sk-parallel-item:only-child::after {width: 0;}#sk-container-id-35 div.sk-dashed-wrapped {border: 1px dashed gray;margin: 0 0.4em 0.5em 0.4em;box-sizing: border-box;padding-bottom: 0.4em;background-color: white;}#sk-container-id-35 div.sk-label label {font-family: monospace;font-weight: bold;display: inline-block;line-height: 1.2em;}#sk-container-id-35 div.sk-label-container {text-align: center;}#sk-container-id-35 div.sk-container {/* jupyter's `normalize.less` sets `[hidden] { display: none; }` but bootstrap.min.css set `[hidden] { display: none !important; }` so we also need the `!important` here to be able to override the default hidden behavior on the sphinx rendered scikit-learn.org. See: https://github.com/scikit-learn/scikit-learn/issues/21755 */display: inline-block !important;position: relative;}#sk-container-id-35 div.sk-text-repr-fallback {display: none;}</style><div id=\"sk-container-id-35\" class=\"sk-top-container\"><div class=\"sk-text-repr-fallback\"><pre>RandomForestRegressor(max_features=&#x27;auto&#x27;, min_samples_leaf=5, n_estimators=10,\n",
              "                      random_state=1)</pre><b>In a Jupyter environment, please rerun this cell to show the HTML representation or trust the notebook. <br />On GitHub, the HTML representation is unable to render, please try loading this page with nbviewer.org.</b></div><div class=\"sk-container\" hidden><div class=\"sk-item\"><div class=\"sk-estimator sk-toggleable\"><input class=\"sk-toggleable__control sk-hidden--visually\" id=\"sk-estimator-id-89\" type=\"checkbox\" checked><label for=\"sk-estimator-id-89\" class=\"sk-toggleable__label sk-toggleable__label-arrow\">RandomForestRegressor</label><div class=\"sk-toggleable__content\"><pre>RandomForestRegressor(max_features=&#x27;auto&#x27;, min_samples_leaf=5, n_estimators=10,\n",
              "                      random_state=1)</pre></div></div></div></div></div>"
            ]
          },
          "metadata": {},
          "execution_count": 396
        }
      ]
    },
    {
      "cell_type": "code",
      "source": [
        "y_pred = model.predict(X_test)"
      ],
      "metadata": {
        "id": "4S22QF_Fl6pO"
      },
      "execution_count": null,
      "outputs": []
    },
    {
      "cell_type": "code",
      "source": [
        "#With Tuning \n",
        "# Add Model first\n",
        "from sklearn.metrics import mean_squared_error\n",
        "mse = mean_squared_error(y_test, y_pred)\n",
        "rmse = mse**.5\n",
        "print(mse)\n",
        "print(rmse)"
      ],
      "metadata": {
        "colab": {
          "base_uri": "https://localhost:8080/"
        },
        "id": "9lX6koSel9_b",
        "outputId": "3773aaa1-7bcb-42af-b7f4-885ab7d346de"
      },
      "execution_count": null,
      "outputs": [
        {
          "output_type": "stream",
          "name": "stdout",
          "text": [
            "0.012260044141173859\n",
            "0.11072508361330714\n"
          ]
        }
      ]
    },
    {
      "cell_type": "code",
      "source": [],
      "metadata": {
        "id": "pSe8T63umBv2"
      },
      "execution_count": null,
      "outputs": []
    }
  ]
}